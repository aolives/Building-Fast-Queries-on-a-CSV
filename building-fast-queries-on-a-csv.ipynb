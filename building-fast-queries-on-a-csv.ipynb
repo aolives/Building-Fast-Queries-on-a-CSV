{
 "cells": [
  {
   "cell_type": "markdown",
   "id": "c64690a4-0cd7-4c1f-a705-de512a530208",
   "metadata": {},
   "source": [
    "# Building Fast Queries on a CSV\n",
    "We will use the laptops.csv file as our inventory. This CSV file was adapted from the (now unavailable) [Laptop Prices dataset on Kaggle](https://www.kaggle.com/ionaskel/laptop-prices). We changed the IDs and made the prices integers."
   ]
  },
  {
   "cell_type": "markdown",
   "id": "7ea04177-663b-4ffc-8f44-eecb74d9aeab",
   "metadata": {},
   "source": [
    "## Load Data"
   ]
  },
  {
   "cell_type": "code",
   "execution_count": 4,
   "id": "1d7f0de1-128a-4652-970f-2d3db236a9f4",
   "metadata": {},
   "outputs": [],
   "source": [
    "from csv import reader"
   ]
  },
  {
   "cell_type": "code",
   "execution_count": 5,
   "id": "b7402279-537a-4fa7-8298-69dfc7a18f9c",
   "metadata": {},
   "outputs": [],
   "source": [
    "with open(\"laptops.csv \", encoding=\"utf-8\") as f:\n",
    "    laptops = list(reader(f))\n",
    "\n",
    "# Remove the header from the data\n",
    "header, rows = laptops[0], laptops[1:]"
   ]
  },
  {
   "cell_type": "code",
   "execution_count": 9,
   "id": "4458a882-62cc-4287-b1f7-e555f44eaa73",
   "metadata": {},
   "outputs": [],
   "source": [
    "# Establishing a data summary function as this could be useful later\n",
    "def explore_data(dataset, start, end, rows_and_columns=True):\n",
    "    dataset_slice = dataset[start:end]\n",
    "    for row in dataset_slice:\n",
    "        print(row)\n",
    "    if rows_and_columns:\n",
    "        print(\"Number of rows:\", len(dataset))\n",
    "        print(\"Number of columns:\", len(dataset[0]))"
   ]
  },
  {
   "cell_type": "code",
   "execution_count": 10,
   "id": "39b42428-75f2-4c91-842b-93f3cd98ff69",
   "metadata": {},
   "outputs": [
    {
     "name": "stdout",
     "output_type": "stream",
     "text": [
      "['Id', 'Company', 'Product', 'TypeName', 'Inches', 'ScreenResolution', 'Cpu', 'Ram', 'Memory', 'Gpu', 'OpSys', 'Weight', 'Price']\n",
      "['6571244', 'Apple', 'MacBook Pro', 'Ultrabook', '13.3', 'IPS Panel Retina Display 2560x1600', 'Intel Core i5 2.3GHz', '8GB', '128GB SSD', 'Intel Iris Plus Graphics 640', 'macOS', '1.37kg', '1339']\n",
      "['7287764', 'Apple', 'Macbook Air', 'Ultrabook', '13.3', '1440x900', 'Intel Core i5 1.8GHz', '8GB', '128GB Flash Storage', 'Intel HD Graphics 6000', 'macOS', '1.34kg', '898']\n",
      "['3362737', 'HP', '250 G6', 'Notebook', '15.6', 'Full HD 1920x1080', 'Intel Core i5 7200U 2.5GHz', '8GB', '256GB SSD', 'Intel HD Graphics 620', 'No OS', '1.86kg', '575']\n",
      "['9722156', 'Apple', 'MacBook Pro', 'Ultrabook', '15.4', 'IPS Panel Retina Display 2880x1800', 'Intel Core i7 2.7GHz', '16GB', '512GB SSD', 'AMD Radeon Pro 455', 'macOS', '1.83kg', '2537']\n",
      "['8550527', 'Apple', 'MacBook Pro', 'Ultrabook', '13.3', 'IPS Panel Retina Display 2560x1600', 'Intel Core i5 3.1GHz', '8GB', '256GB SSD', 'Intel Iris Plus Graphics 650', 'macOS', '1.37kg', '1803']\n",
      "Number of rows: 1303\n",
      "Number of columns: 13\n"
     ]
    }
   ],
   "source": [
    "# Print a preview of the data along with the header\n",
    "print(header)\n",
    "explore_data(rows, 0, 5, True)"
   ]
  },
  {
   "cell_type": "code",
   "execution_count": 21,
   "id": "fd73124a-0daf-41ad-a05c-9a728453b635",
   "metadata": {},
   "outputs": [
    {
     "name": "stdout",
     "output_type": "stream",
     "text": [
      "['Id', 'Company', 'Product', 'TypeName', 'Inches', 'ScreenResolution', 'Cpu', 'Ram', 'Memory', 'Gpu', 'OpSys', 'Weight', 'Price']\n",
      "[['6571244', 'Apple', 'MacBook Pro', 'Ultrabook', '13.3', 'IPS Panel Retina Display 2560x1600', 'Intel Core i5 2.3GHz', '8GB', '128GB SSD', 'Intel Iris Plus Graphics 640', 'macOS', '1.37kg', 1339], ['7287764', 'Apple', 'Macbook Air', 'Ultrabook', '13.3', '1440x900', 'Intel Core i5 1.8GHz', '8GB', '128GB Flash Storage', 'Intel HD Graphics 6000', 'macOS', '1.34kg', 898], ['3362737', 'HP', '250 G6', 'Notebook', '15.6', 'Full HD 1920x1080', 'Intel Core i5 7200U 2.5GHz', '8GB', '256GB SSD', 'Intel HD Graphics 620', 'No OS', '1.86kg', 575], ['9722156', 'Apple', 'MacBook Pro', 'Ultrabook', '15.4', 'IPS Panel Retina Display 2880x1800', 'Intel Core i7 2.7GHz', '16GB', '512GB SSD', 'AMD Radeon Pro 455', 'macOS', '1.83kg', 2537], ['8550527', 'Apple', 'MacBook Pro', 'Ultrabook', '13.3', 'IPS Panel Retina Display 2560x1600', 'Intel Core i5 3.1GHz', '8GB', '256GB SSD', 'Intel Iris Plus Graphics 650', 'macOS', '1.37kg', 1803]]\n",
      "Number of Rows: 1303\n",
      "Number of columns: 13\n"
     ]
    }
   ],
   "source": [
    "class Inventory():\n",
    "    def __init__(self, csv_filename: str) -> None:\n",
    "        with open(csv_filename, encoding=\"utf-8\") as f:\n",
    "            rows = list(reader(f))\n",
    "        # Remove the header from the data\n",
    "        self.header, self.rows = rows[0], rows[1:]\n",
    "        for row in self.rows:\n",
    "            row[-1] = int(row[-1])\n",
    "\n",
    "inventory = Inventory('laptops.csv')\n",
    "print(inventory.header)\n",
    "print(inventory.rows[:5])\n",
    "print(\"Number of Rows:\", len(inventory.rows))\n",
    "print(\"Number of columns:\", len(inventory.rows[0]))"
   ]
  },
  {
   "cell_type": "code",
   "execution_count": null,
   "id": "e78cc7f2-f188-4ac6-ab8f-13f4dc4e7e17",
   "metadata": {},
   "outputs": [],
   "source": []
  }
 ],
 "metadata": {
  "kernelspec": {
   "display_name": "Python 3 (ipykernel)",
   "language": "python",
   "name": "python3"
  },
  "language_info": {
   "codemirror_mode": {
    "name": "ipython",
    "version": 3
   },
   "file_extension": ".py",
   "mimetype": "text/x-python",
   "name": "python",
   "nbconvert_exporter": "python",
   "pygments_lexer": "ipython3",
   "version": "3.11.1"
  }
 },
 "nbformat": 4,
 "nbformat_minor": 5
}
