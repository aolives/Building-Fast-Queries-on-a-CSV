{
 "cells": [
  {
   "cell_type": "markdown",
   "id": "c64690a4-0cd7-4c1f-a705-de512a530208",
   "metadata": {},
   "source": [
    "# Building Fast Queries on a CSV\n",
    "We will use the laptops.csv file as our inventory. This CSV file was adapted from the (now unavailable) [Laptop Prices dataset on Kaggle](https://www.kaggle.com/ionaskel/laptop-prices). We changed the IDs and made the prices integers."
   ]
  },
  {
   "cell_type": "markdown",
   "id": "7ea04177-663b-4ffc-8f44-eecb74d9aeab",
   "metadata": {},
   "source": [
    "## Load Data"
   ]
  },
  {
   "cell_type": "code",
   "execution_count": null,
   "id": "1d7f0de1-128a-4652-970f-2d3db236a9f4",
   "metadata": {},
   "outputs": [],
   "source": [
    "from csv import reader"
   ]
  },
  {
   "cell_type": "code",
   "execution_count": null,
   "id": "b7402279-537a-4fa7-8298-69dfc7a18f9c",
   "metadata": {},
   "outputs": [],
   "source": [
    "with open(\"laptops.csv \", encoding=\"utf-8\") as f:\n",
    "    laptops = list(reader(f))\n",
    "\n",
    "# Remove the header from the data\n",
    "header, rows = laptops[0], laptops[1:]"
   ]
  },
  {
   "cell_type": "code",
   "execution_count": null,
   "id": "4458a882-62cc-4287-b1f7-e555f44eaa73",
   "metadata": {},
   "outputs": [],
   "source": [
    "# A boilerplate function I use for very basic data summary\n",
    "def explore_data(dataset: list[list[str]], start: int, end: int, rows_and_columns: bool = True) -> None:\n",
    "    for row in dataset[start:end]:\n",
    "        print(row)\n",
    "    if rows_and_columns:\n",
    "        print(\"Number of rows:\", len(dataset))\n",
    "        print(\"Number of columns:\", len(dataset[0]))"
   ]
  },
  {
   "cell_type": "code",
   "execution_count": null,
   "id": "39b42428-75f2-4c91-842b-93f3cd98ff69",
   "metadata": {},
   "outputs": [],
   "source": [
    "# Print a preview of the data along with the header.\n",
    "print(header)\n",
    "explore_data(rows, 0, 5, True)"
   ]
  },
  {
   "cell_type": "code",
   "execution_count": null,
   "id": "fd73124a-0daf-41ad-a05c-9a728453b635",
   "metadata": {},
   "outputs": [],
   "source": [
    "class Inventory():\n",
    "    def __init__(self, csv_filename: str) -> None:\n",
    "        with open(csv_filename, encoding=\"utf-8\") as f:\n",
    "            rows = list(reader(f))\n",
    "        # Remove the header from the data\n",
    "        self.header, self.rows = rows[0], rows[1:]\n",
    "        for row in self.rows:\n",
    "            row[-1] = int(row[-1])"
   ]
  },
  {
   "cell_type": "code",
   "execution_count": null,
   "id": "e78cc7f2-f188-4ac6-ab8f-13f4dc4e7e17",
   "metadata": {},
   "outputs": [],
   "source": [
    "# Let's use the Inventory class we wrote above to produce a preview. If it matches the preview above it's an indication we're ok to continue.\n",
    "inventory = Inventory('laptops.csv')\n",
    "print(inventory.header)\n",
    "for row in inventory.rows[:5]:\n",
    "        print(row)\n",
    "print(\"Number of Rows:\", len(inventory.rows))\n",
    "print(\"Number of columns:\", len(inventory.rows[0]))"
   ]
  },
  {
   "cell_type": "code",
   "execution_count": null,
   "id": "ff184b26-db46-4576-a5e3-339638e3f4a3",
   "metadata": {},
   "outputs": [],
   "source": [
    "class Inventory():\n",
    "    def __init__(self, csv_filename: str) -> None:\n",
    "        with open(csv_filename, encoding=\"utf-8\") as f:\n",
    "            rows = list(reader(f))\n",
    "        # Remove the header from the data\n",
    "        self.header, self.rows = rows[0], rows[1:]\n",
    "        for row in self.rows:\n",
    "            row[-1] = int(row[-1])\n",
    "            \n",
    "    def get_laptop_from_id(self, laptop_id: str) -> list | None:\n",
    "        for row in self.rows:\n",
    "            if laptop_id == row[0]:\n",
    "                return row\n",
    "        return None"
   ]
  },
  {
   "cell_type": "code",
   "execution_count": null,
   "id": "40a668e0-d00d-4148-8278-59e102e020dd",
   "metadata": {},
   "outputs": [],
   "source": [
    "inventory = Inventory('laptops.csv')\n",
    "print(inventory.get_laptop_from_id('3362737'))\n",
    "print(inventory.get_laptop_from_id('3362736'))"
   ]
  },
  {
   "cell_type": "code",
   "execution_count": null,
   "id": "4d2fa7a3-38c2-48ef-a2a3-5909790d0bf6",
   "metadata": {},
   "outputs": [],
   "source": []
  }
 ],
 "metadata": {
  "kernelspec": {
   "display_name": "Python 3 (ipykernel)",
   "language": "python",
   "name": "python3"
  },
  "language_info": {
   "codemirror_mode": {
    "name": "ipython",
    "version": 3
   },
   "file_extension": ".py",
   "mimetype": "text/x-python",
   "name": "python",
   "nbconvert_exporter": "python",
   "pygments_lexer": "ipython3",
   "version": "3.11.1"
  }
 },
 "nbformat": 4,
 "nbformat_minor": 5
}
